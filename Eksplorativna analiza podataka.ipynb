{
 "cells": [
  {
   "cell_type": "markdown",
   "metadata": {},
   "source": [
    "# Eksplorativna analiza podataka\n",
    "#### kurs primenjene nauke o podacima, fakultet FEFA, 2020. godine"
   ]
  },
  {
   "cell_type": "markdown",
   "metadata": {},
   "source": [
    "Ovo je primer eksplorativne analize skupa podataka sa kojim se prvi put susrećemo. U tu svrhu ćemo koristiti fajl __fortune500.csv__ koji možete da preuzmete sa adrese https://s3.amazonaws.com/dq-blog-files/fortune500.csv. Neke elemente analize ćemo uraditi u R-u (primer za skriptnu obradu), a za domaći zadatak probajte da to uradite u Excel-u (primer za _spreadsheet_ obradu podataka)."
   ]
  },
  {
   "cell_type": "markdown",
   "metadata": {},
   "source": [
    "Ideja eksplorativne analize podataka (skraćeno EDA od engl. _Exploratory Data Analysis_) je da:\n",
    "* istraži strukturu podataka (koliko ima podataka, kog, tipa, šta su atributi),\n",
    "* uoči nedostajuće podatke i očigledne greške,\n",
    "* uoči raspodele podataka i proceni njene parametre,\n",
    "* omogući skiciranje modela odnosa među varijablama i\n",
    "* omogući identifikovanje ključnih varijabli. \n",
    "\n",
    "Ovu analizu je najbolje raditi istovremeno i numerički i vizuelno."
   ]
  },
  {
   "cell_type": "markdown",
   "metadata": {},
   "source": [
    "Prvo, da učitamo fortune500 csv fajl direktno sa veba. Nema potrebe da ga preuzimamo i snimamo na lokalni disk. Sadržaj fajla smeštamo u *data frame* koji ćemo kreativno nazvati **df**."
   ]
  },
  {
   "cell_type": "code",
   "execution_count": 177,
   "metadata": {},
   "outputs": [],
   "source": [
    "df=read.csv(\"https://s3.amazonaws.com/dq-blog-files/fortune500.csv\")"
   ]
  },
  {
   "cell_type": "markdown",
   "metadata": {},
   "source": [
    "Koje su dimenzije ove tabele?"
   ]
  },
  {
   "cell_type": "code",
   "execution_count": 178,
   "metadata": {
    "scrolled": true
   },
   "outputs": [
    {
     "data": {
      "text/html": [
       "<ol class=list-inline>\n",
       "\t<li>25500</li>\n",
       "\t<li>5</li>\n",
       "</ol>\n"
      ],
      "text/latex": [
       "\\begin{enumerate*}\n",
       "\\item 25500\n",
       "\\item 5\n",
       "\\end{enumerate*}\n"
      ],
      "text/markdown": [
       "1. 25500\n",
       "2. 5\n",
       "\n",
       "\n"
      ],
      "text/plain": [
       "[1] 25500     5"
      ]
     },
     "metadata": {},
     "output_type": "display_data"
    }
   ],
   "source": [
    "dim(df)"
   ]
  },
  {
   "cell_type": "markdown",
   "metadata": {},
   "source": [
    "Koju strukturu ima __df__?"
   ]
  },
  {
   "cell_type": "code",
   "execution_count": 179,
   "metadata": {},
   "outputs": [
    {
     "name": "stdout",
     "output_type": "stream",
     "text": [
      "'data.frame':\t25500 obs. of  5 variables:\n",
      " $ Year                 : int  1955 1955 1955 1955 1955 1955 1955 1955 1955 1955 ...\n",
      " $ Rank                 : int  1 2 3 4 5 6 7 8 9 10 ...\n",
      " $ Company              : Factor w/ 1887 levels \"3Com\",\"3M\",\"A-T-O\",..: 724 618 1727 718 607 369 145 787 1171 561 ...\n",
      " $ Revenue..in.millions.: num  9824 5661 3250 2959 2511 ...\n",
      " $ Profit..in.millions. : Factor w/ 6977 levels \"-0.1\",\"-0.2\",..: 6486 5688 2940 3143 2864 2733 1341 2774 2787 4313 ...\n"
     ]
    }
   ],
   "source": [
    "str(df)"
   ]
  },
  {
   "cell_type": "markdown",
   "metadata": {},
   "source": [
    "25500 redova je mnogo za ispis na ekranu. Da pogledamo kako izgleda zaglavlje **df** sa prvih nekoliko redova."
   ]
  },
  {
   "cell_type": "markdown",
   "metadata": {},
   "source": [
    "Vidimo da _data frame_ ima 5 atributa. Prve dve (\"Year\" i \"Rank\") su celobrojni numerički vektori, treća (\"Company\") je faktor, odnosno čudno spakovan niz stringova, četvrto (\"Revenue..in.millions.\") je numerički vektor (niz brojeva) dok je poslednji atribut ponovo faktor. Ovo je malo iznenađenje jer smo očekivali još jedan numerički vektor. Izgleda da u toj koloni ima još nečega sem brojeva."
   ]
  },
  {
   "cell_type": "markdown",
   "metadata": {},
   "source": [
    "Za svaku kolonu iz __df__ možemo da vidimo osnovne elemente deskriptivne statistike (srednja vrednost (_mean_), medijana (_median_), minimum, maksimum i 1. i 3. kvartil) uz pomoć funkcije `summary`."
   ]
  },
  {
   "cell_type": "code",
   "execution_count": 180,
   "metadata": {},
   "outputs": [
    {
     "data": {
      "text/plain": [
       "Length  Class   Mode \n",
       "     0   NULL   NULL "
      ]
     },
     "metadata": {},
     "output_type": "display_data"
    }
   ],
   "source": [
    "summary(df$year)"
   ]
  },
  {
   "cell_type": "markdown",
   "metadata": {},
   "source": [
    "Sad da vidimo same podatke. 25500 redova je mnogo. Prikazaćemo za početak samo zaglavlje i prvih pet redova uz pomoć funkcije `head`."
   ]
  },
  {
   "cell_type": "code",
   "execution_count": 181,
   "metadata": {},
   "outputs": [
    {
     "data": {
      "text/html": [
       "<table>\n",
       "<thead><tr><th scope=col>Year</th><th scope=col>Rank</th><th scope=col>Company</th><th scope=col>Revenue..in.millions.</th><th scope=col>Profit..in.millions.</th></tr></thead>\n",
       "<tbody>\n",
       "\t<tr><td>1955            </td><td>1               </td><td>General Motors  </td><td>9823.5          </td><td>806             </td></tr>\n",
       "\t<tr><td>1955            </td><td>2               </td><td>Exxon Mobil     </td><td>5661.4          </td><td>584.8           </td></tr>\n",
       "\t<tr><td>1955            </td><td>3               </td><td>U.S. Steel      </td><td>3250.4          </td><td>195.4           </td></tr>\n",
       "\t<tr><td>1955            </td><td>4               </td><td>General Electric</td><td>2959.1          </td><td>212.6           </td></tr>\n",
       "\t<tr><td>1955            </td><td>5               </td><td>Esmark          </td><td>2510.8          </td><td>19.1            </td></tr>\n",
       "\t<tr><td>1955            </td><td>6               </td><td>Chrysler        </td><td>2071.6          </td><td>18.5            </td></tr>\n",
       "</tbody>\n",
       "</table>\n"
      ],
      "text/latex": [
       "\\begin{tabular}{r|lllll}\n",
       " Year & Rank & Company & Revenue..in.millions. & Profit..in.millions.\\\\\n",
       "\\hline\n",
       "\t 1955             & 1                & General Motors   & 9823.5           & 806             \\\\\n",
       "\t 1955             & 2                & Exxon Mobil      & 5661.4           & 584.8           \\\\\n",
       "\t 1955             & 3                & U.S. Steel       & 3250.4           & 195.4           \\\\\n",
       "\t 1955             & 4                & General Electric & 2959.1           & 212.6           \\\\\n",
       "\t 1955             & 5                & Esmark           & 2510.8           & 19.1            \\\\\n",
       "\t 1955             & 6                & Chrysler         & 2071.6           & 18.5            \\\\\n",
       "\\end{tabular}\n"
      ],
      "text/markdown": [
       "\n",
       "Year | Rank | Company | Revenue..in.millions. | Profit..in.millions. | \n",
       "|---|---|---|---|---|---|\n",
       "| 1955             | 1                | General Motors   | 9823.5           | 806              | \n",
       "| 1955             | 2                | Exxon Mobil      | 5661.4           | 584.8            | \n",
       "| 1955             | 3                | U.S. Steel       | 3250.4           | 195.4            | \n",
       "| 1955             | 4                | General Electric | 2959.1           | 212.6            | \n",
       "| 1955             | 5                | Esmark           | 2510.8           | 19.1             | \n",
       "| 1955             | 6                | Chrysler         | 2071.6           | 18.5             | \n",
       "\n",
       "\n"
      ],
      "text/plain": [
       "  Year Rank Company          Revenue..in.millions. Profit..in.millions.\n",
       "1 1955 1    General Motors   9823.5                806                 \n",
       "2 1955 2    Exxon Mobil      5661.4                584.8               \n",
       "3 1955 3    U.S. Steel       3250.4                195.4               \n",
       "4 1955 4    General Electric 2959.1                212.6               \n",
       "5 1955 5    Esmark           2510.8                19.1                \n",
       "6 1955 6    Chrysler         2071.6                18.5                "
      ]
     },
     "metadata": {},
     "output_type": "display_data"
    }
   ],
   "source": [
    "head(df)"
   ]
  },
  {
   "cell_type": "markdown",
   "metadata": {},
   "source": [
    "Imena poslednja dva atributa su malo nezgrapna. Preimenovaćemo ih u nešto jednostavnije."
   ]
  },
  {
   "cell_type": "code",
   "execution_count": 182,
   "metadata": {},
   "outputs": [],
   "source": [
    "names(df)=c(\"year\",\"rank\",\"company\",\"revenue\",\"profit\")"
   ]
  },
  {
   "cell_type": "markdown",
   "metadata": {},
   "source": [
    "Podaci su dati po godinama. Koje godine imamo u ovoj tabeli?"
   ]
  },
  {
   "cell_type": "code",
   "execution_count": 183,
   "metadata": {},
   "outputs": [
    {
     "data": {
      "text/html": [
       "<ol class=list-inline>\n",
       "\t<li>1955</li>\n",
       "\t<li>1956</li>\n",
       "\t<li>1957</li>\n",
       "\t<li>1958</li>\n",
       "\t<li>1959</li>\n",
       "\t<li>1960</li>\n",
       "\t<li>1961</li>\n",
       "\t<li>1962</li>\n",
       "\t<li>1963</li>\n",
       "\t<li>1964</li>\n",
       "\t<li>1965</li>\n",
       "\t<li>1966</li>\n",
       "\t<li>1967</li>\n",
       "\t<li>1968</li>\n",
       "\t<li>1969</li>\n",
       "\t<li>1970</li>\n",
       "\t<li>1971</li>\n",
       "\t<li>1972</li>\n",
       "\t<li>1973</li>\n",
       "\t<li>1974</li>\n",
       "\t<li>1975</li>\n",
       "\t<li>1976</li>\n",
       "\t<li>1977</li>\n",
       "\t<li>1978</li>\n",
       "\t<li>1979</li>\n",
       "\t<li>1980</li>\n",
       "\t<li>1981</li>\n",
       "\t<li>1982</li>\n",
       "\t<li>1983</li>\n",
       "\t<li>1984</li>\n",
       "\t<li>1985</li>\n",
       "\t<li>1986</li>\n",
       "\t<li>1987</li>\n",
       "\t<li>1988</li>\n",
       "\t<li>1989</li>\n",
       "\t<li>1990</li>\n",
       "\t<li>1991</li>\n",
       "\t<li>1992</li>\n",
       "\t<li>1993</li>\n",
       "\t<li>1994</li>\n",
       "\t<li>1995</li>\n",
       "\t<li>1996</li>\n",
       "\t<li>1997</li>\n",
       "\t<li>1998</li>\n",
       "\t<li>1999</li>\n",
       "\t<li>2000</li>\n",
       "\t<li>2001</li>\n",
       "\t<li>2002</li>\n",
       "\t<li>2003</li>\n",
       "\t<li>2004</li>\n",
       "\t<li>2005</li>\n",
       "</ol>\n"
      ],
      "text/latex": [
       "\\begin{enumerate*}\n",
       "\\item 1955\n",
       "\\item 1956\n",
       "\\item 1957\n",
       "\\item 1958\n",
       "\\item 1959\n",
       "\\item 1960\n",
       "\\item 1961\n",
       "\\item 1962\n",
       "\\item 1963\n",
       "\\item 1964\n",
       "\\item 1965\n",
       "\\item 1966\n",
       "\\item 1967\n",
       "\\item 1968\n",
       "\\item 1969\n",
       "\\item 1970\n",
       "\\item 1971\n",
       "\\item 1972\n",
       "\\item 1973\n",
       "\\item 1974\n",
       "\\item 1975\n",
       "\\item 1976\n",
       "\\item 1977\n",
       "\\item 1978\n",
       "\\item 1979\n",
       "\\item 1980\n",
       "\\item 1981\n",
       "\\item 1982\n",
       "\\item 1983\n",
       "\\item 1984\n",
       "\\item 1985\n",
       "\\item 1986\n",
       "\\item 1987\n",
       "\\item 1988\n",
       "\\item 1989\n",
       "\\item 1990\n",
       "\\item 1991\n",
       "\\item 1992\n",
       "\\item 1993\n",
       "\\item 1994\n",
       "\\item 1995\n",
       "\\item 1996\n",
       "\\item 1997\n",
       "\\item 1998\n",
       "\\item 1999\n",
       "\\item 2000\n",
       "\\item 2001\n",
       "\\item 2002\n",
       "\\item 2003\n",
       "\\item 2004\n",
       "\\item 2005\n",
       "\\end{enumerate*}\n"
      ],
      "text/markdown": [
       "1. 1955\n",
       "2. 1956\n",
       "3. 1957\n",
       "4. 1958\n",
       "5. 1959\n",
       "6. 1960\n",
       "7. 1961\n",
       "8. 1962\n",
       "9. 1963\n",
       "10. 1964\n",
       "11. 1965\n",
       "12. 1966\n",
       "13. 1967\n",
       "14. 1968\n",
       "15. 1969\n",
       "16. 1970\n",
       "17. 1971\n",
       "18. 1972\n",
       "19. 1973\n",
       "20. 1974\n",
       "21. 1975\n",
       "22. 1976\n",
       "23. 1977\n",
       "24. 1978\n",
       "25. 1979\n",
       "26. 1980\n",
       "27. 1981\n",
       "28. 1982\n",
       "29. 1983\n",
       "30. 1984\n",
       "31. 1985\n",
       "32. 1986\n",
       "33. 1987\n",
       "34. 1988\n",
       "35. 1989\n",
       "36. 1990\n",
       "37. 1991\n",
       "38. 1992\n",
       "39. 1993\n",
       "40. 1994\n",
       "41. 1995\n",
       "42. 1996\n",
       "43. 1997\n",
       "44. 1998\n",
       "45. 1999\n",
       "46. 2000\n",
       "47. 2001\n",
       "48. 2002\n",
       "49. 2003\n",
       "50. 2004\n",
       "51. 2005\n",
       "\n",
       "\n"
      ],
      "text/plain": [
       " [1] 1955 1956 1957 1958 1959 1960 1961 1962 1963 1964 1965 1966 1967 1968 1969\n",
       "[16] 1970 1971 1972 1973 1974 1975 1976 1977 1978 1979 1980 1981 1982 1983 1984\n",
       "[31] 1985 1986 1987 1988 1989 1990 1991 1992 1993 1994 1995 1996 1997 1998 1999\n",
       "[46] 2000 2001 2002 2003 2004 2005"
      ]
     },
     "metadata": {},
     "output_type": "display_data"
    }
   ],
   "source": [
    "unique(df$year) # unique nam daje samo jedinstvene vrenosti, bez ponavljanja"
   ]
  },
  {
   "cell_type": "markdown",
   "metadata": {},
   "source": [
    "Imamo, dakle, 51 godinu. Koliko je to redova podataka po godini?"
   ]
  },
  {
   "cell_type": "code",
   "execution_count": 184,
   "metadata": {},
   "outputs": [
    {
     "data": {
      "text/plain": [
       "\n",
       "1955 1956 1957 1958 1959 1960 1961 1962 1963 1964 1965 1966 1967 1968 1969 1970 \n",
       " 500  500  500  500  500  500  500  500  500  500  500  500  500  500  500  500 \n",
       "1971 1972 1973 1974 1975 1976 1977 1978 1979 1980 1981 1982 1983 1984 1985 1986 \n",
       " 500  500  500  500  500  500  500  500  500  500  500  500  500  500  500  500 \n",
       "1987 1988 1989 1990 1991 1992 1993 1994 1995 1996 1997 1998 1999 2000 2001 2002 \n",
       " 500  500  500  500  500  500  500  500  500  500  500  500  500  500  500  500 \n",
       "2003 2004 2005 \n",
       " 500  500  500 "
      ]
     },
     "metadata": {},
     "output_type": "display_data"
    }
   ],
   "source": [
    "table(df$year)"
   ]
  },
  {
   "cell_type": "markdown",
   "metadata": {},
   "source": [
    "Za svaku godinu po 500 redova, verovatno 500 različitih kompanija. Onih 25500 redova je baš 51·500."
   ]
  },
  {
   "cell_type": "markdown",
   "metadata": {},
   "source": [
    "Pošto podaci nisu anotirani, nije sasvim jasno šta znači \"rank\". Ili su pojedinačni unosi rangirani ili su kompanije, ali ne znamo po čemu? Po profitu ili prihodima?\n",
    "Da vidimo u kom intervalu imamo vrednosti za **rank**."
   ]
  },
  {
   "cell_type": "code",
   "execution_count": 185,
   "metadata": {},
   "outputs": [
    {
     "data": {
      "text/html": [
       "1"
      ],
      "text/latex": [
       "1"
      ],
      "text/markdown": [
       "1"
      ],
      "text/plain": [
       "[1] 1"
      ]
     },
     "metadata": {},
     "output_type": "display_data"
    },
    {
     "data": {
      "text/html": [
       "500"
      ],
      "text/latex": [
       "500"
      ],
      "text/markdown": [
       "500"
      ],
      "text/plain": [
       "[1] 500"
      ]
     },
     "metadata": {},
     "output_type": "display_data"
    }
   ],
   "source": [
    "min(df$rank); max(df$rank)"
   ]
  },
  {
   "cell_type": "markdown",
   "metadata": {},
   "source": [
    "Verovatno je rangirano 500 kompanija svake godine. Koliko imamo ukupno različitih kompanija?"
   ]
  },
  {
   "cell_type": "code",
   "execution_count": 186,
   "metadata": {},
   "outputs": [
    {
     "data": {
      "text/html": [
       "1887"
      ],
      "text/latex": [
       "1887"
      ],
      "text/markdown": [
       "1887"
      ],
      "text/plain": [
       "[1] 1887"
      ]
     },
     "metadata": {},
     "output_type": "display_data"
    }
   ],
   "source": [
    "length(unique(df$company))"
   ]
  },
  {
   "cell_type": "markdown",
   "metadata": {},
   "source": [
    "Više ih je od 500. Izgleda da za svaku godinu imamo listu 500 kompanija koje nisu nužno iste. "
   ]
  },
  {
   "cell_type": "markdown",
   "metadata": {},
   "source": [
    "Koliko ima kompanija po godinama?"
   ]
  },
  {
   "cell_type": "markdown",
   "metadata": {},
   "source": [
    "Da vidimo koje se kompanije načešće pojavljuju u tabeli. Funkcija `table` će nam dati sve kompanije. Bolje je da ih sortiramo (funkcijom `sort`) pa da onda prikažemo samo nekoliko prvih uz pomoć `head` funkcije."
   ]
  },
  {
   "cell_type": "code",
   "execution_count": 187,
   "metadata": {},
   "outputs": [
    {
     "data": {
      "text/plain": [
       "\n",
       "       ACX Technologies  ADC Telecommunications Adelphia Communications \n",
       "                      1                       1                       1 \n",
       "            Allen Group       Amalgamated Sugar        AMBAC Industries \n",
       "                      1                       1                       1 "
      ]
     },
     "metadata": {},
     "output_type": "display_data"
    }
   ],
   "source": [
    "head(sort(table(df$company)))"
   ]
  },
  {
   "cell_type": "markdown",
   "metadata": {},
   "source": [
    "Nije dovoljno dobro. Ovde smo dobili one koje se pojavljuju samo jednom jer `sort` slaže podatke od najmanjeg do najvećeg. Biće bolje da umesto `head` uzmemo `tail` i tako umesto zaglavlja prokažemo sam kraj tabele."
   ]
  },
  {
   "cell_type": "code",
   "execution_count": 188,
   "metadata": {},
   "outputs": [
    {
     "data": {
      "text/plain": [
       "\n",
       "         USG Weyerhaeuser    Whirlpool        Wyeth    OfficeMax          CBS \n",
       "          51           51           51           51           55           57 "
      ]
     },
     "metadata": {},
     "output_type": "display_data"
    }
   ],
   "source": [
    "tail(sort(table(df$company)))"
   ]
  },
  {
   "cell_type": "markdown",
   "metadata": {},
   "source": [
    "Aha, jasno. Firme \"USG\" i \"Weyerhaeuser\" se pojavljuju svake godine, ukupno 51 put. Ali, ne! \"CBS\" se pojavljuje 57 puta! Nemoguće! Imamo samo 51 godinu. Da li znači da ista firma može da se pojavi više puta u istoj godini?"
   ]
  },
  {
   "cell_type": "code",
   "execution_count": 189,
   "metadata": {},
   "outputs": [
    {
     "data": {
      "text/html": [
       "<ol class=list-inline>\n",
       "\t<li>1955</li>\n",
       "\t<li>1956</li>\n",
       "\t<li>1957</li>\n",
       "\t<li>1958</li>\n",
       "\t<li>1959</li>\n",
       "\t<li>1960</li>\n",
       "\t<li>1961</li>\n",
       "\t<li>1962</li>\n",
       "\t<li>1963</li>\n",
       "\t<li>1964</li>\n",
       "\t<li>1965</li>\n",
       "\t<li>1966</li>\n",
       "\t<li>1967</li>\n",
       "\t<li>1968</li>\n",
       "\t<li>1969</li>\n",
       "\t<li>1970</li>\n",
       "\t<li>1971</li>\n",
       "\t<li>1972</li>\n",
       "\t<li>1972</li>\n",
       "\t<li>1973</li>\n",
       "\t<li>1973</li>\n",
       "\t<li>1974</li>\n",
       "\t<li>1974</li>\n",
       "\t<li>1975</li>\n",
       "\t<li>1975</li>\n",
       "\t<li>1976</li>\n",
       "\t<li>1976</li>\n",
       "\t<li>1977</li>\n",
       "\t<li>1977</li>\n",
       "\t<li>1978</li>\n",
       "\t<li>1978</li>\n",
       "\t<li>1979</li>\n",
       "\t<li>1979</li>\n",
       "\t<li>1980</li>\n",
       "\t<li>1980</li>\n",
       "\t<li>1981</li>\n",
       "\t<li>1981</li>\n",
       "\t<li>1982</li>\n",
       "\t<li>1983</li>\n",
       "\t<li>1984</li>\n",
       "\t<li>1985</li>\n",
       "\t<li>1986</li>\n",
       "\t<li>1987</li>\n",
       "\t<li>1988</li>\n",
       "\t<li>1989</li>\n",
       "\t<li>1990</li>\n",
       "\t<li>1991</li>\n",
       "\t<li>1992</li>\n",
       "\t<li>1993</li>\n",
       "\t<li>1994</li>\n",
       "\t<li>1995</li>\n",
       "\t<li>1995</li>\n",
       "\t<li>1996</li>\n",
       "\t<li>1997</li>\n",
       "\t<li>1998</li>\n",
       "\t<li>1999</li>\n",
       "\t<li>2000</li>\n",
       "</ol>\n"
      ],
      "text/latex": [
       "\\begin{enumerate*}\n",
       "\\item 1955\n",
       "\\item 1956\n",
       "\\item 1957\n",
       "\\item 1958\n",
       "\\item 1959\n",
       "\\item 1960\n",
       "\\item 1961\n",
       "\\item 1962\n",
       "\\item 1963\n",
       "\\item 1964\n",
       "\\item 1965\n",
       "\\item 1966\n",
       "\\item 1967\n",
       "\\item 1968\n",
       "\\item 1969\n",
       "\\item 1970\n",
       "\\item 1971\n",
       "\\item 1972\n",
       "\\item 1972\n",
       "\\item 1973\n",
       "\\item 1973\n",
       "\\item 1974\n",
       "\\item 1974\n",
       "\\item 1975\n",
       "\\item 1975\n",
       "\\item 1976\n",
       "\\item 1976\n",
       "\\item 1977\n",
       "\\item 1977\n",
       "\\item 1978\n",
       "\\item 1978\n",
       "\\item 1979\n",
       "\\item 1979\n",
       "\\item 1980\n",
       "\\item 1980\n",
       "\\item 1981\n",
       "\\item 1981\n",
       "\\item 1982\n",
       "\\item 1983\n",
       "\\item 1984\n",
       "\\item 1985\n",
       "\\item 1986\n",
       "\\item 1987\n",
       "\\item 1988\n",
       "\\item 1989\n",
       "\\item 1990\n",
       "\\item 1991\n",
       "\\item 1992\n",
       "\\item 1993\n",
       "\\item 1994\n",
       "\\item 1995\n",
       "\\item 1995\n",
       "\\item 1996\n",
       "\\item 1997\n",
       "\\item 1998\n",
       "\\item 1999\n",
       "\\item 2000\n",
       "\\end{enumerate*}\n"
      ],
      "text/markdown": [
       "1. 1955\n",
       "2. 1956\n",
       "3. 1957\n",
       "4. 1958\n",
       "5. 1959\n",
       "6. 1960\n",
       "7. 1961\n",
       "8. 1962\n",
       "9. 1963\n",
       "10. 1964\n",
       "11. 1965\n",
       "12. 1966\n",
       "13. 1967\n",
       "14. 1968\n",
       "15. 1969\n",
       "16. 1970\n",
       "17. 1971\n",
       "18. 1972\n",
       "19. 1972\n",
       "20. 1973\n",
       "21. 1973\n",
       "22. 1974\n",
       "23. 1974\n",
       "24. 1975\n",
       "25. 1975\n",
       "26. 1976\n",
       "27. 1976\n",
       "28. 1977\n",
       "29. 1977\n",
       "30. 1978\n",
       "31. 1978\n",
       "32. 1979\n",
       "33. 1979\n",
       "34. 1980\n",
       "35. 1980\n",
       "36. 1981\n",
       "37. 1981\n",
       "38. 1982\n",
       "39. 1983\n",
       "40. 1984\n",
       "41. 1985\n",
       "42. 1986\n",
       "43. 1987\n",
       "44. 1988\n",
       "45. 1989\n",
       "46. 1990\n",
       "47. 1991\n",
       "48. 1992\n",
       "49. 1993\n",
       "50. 1994\n",
       "51. 1995\n",
       "52. 1995\n",
       "53. 1996\n",
       "54. 1997\n",
       "55. 1998\n",
       "56. 1999\n",
       "57. 2000\n",
       "\n",
       "\n"
      ],
      "text/plain": [
       " [1] 1955 1956 1957 1958 1959 1960 1961 1962 1963 1964 1965 1966 1967 1968 1969\n",
       "[16] 1970 1971 1972 1972 1973 1973 1974 1974 1975 1975 1976 1976 1977 1977 1978\n",
       "[31] 1978 1979 1979 1980 1980 1981 1981 1982 1983 1984 1985 1986 1987 1988 1989\n",
       "[46] 1990 1991 1992 1993 1994 1995 1995 1996 1997 1998 1999 2000"
      ]
     },
     "metadata": {},
     "output_type": "display_data"
    }
   ],
   "source": [
    "df$year[df$company==\"CBS\"]"
   ]
  },
  {
   "cell_type": "code",
   "execution_count": 190,
   "metadata": {},
   "outputs": [
    {
     "data": {
      "text/plain": [
       "\n",
       "1955 1956 1957 1958 1959 1960 1961 1962 1963 1964 1965 1966 1967 1968 1969 1970 \n",
       "   1    1    1    1    1    1    1    1    1    1    1    1    1    1    1    1 \n",
       "1971 1972 1973 1974 1975 1976 1977 1978 1979 1980 1981 1982 1983 1984 1985 1986 \n",
       "   1    2    2    2    2    2    2    2    2    2    2    1    1    1    1    1 \n",
       "1987 1988 1989 1990 1991 1992 1993 1994 1995 1996 1997 1998 1999 2000 \n",
       "   1    1    1    1    1    1    1    1    2    1    1    1    1    1 "
      ]
     },
     "metadata": {},
     "output_type": "display_data"
    }
   ],
   "source": [
    "table(df$year[df$company==\"CBS\"])"
   ]
  },
  {
   "cell_type": "markdown",
   "metadata": {},
   "source": [
    "Zaista, u godinama 1972-1981. i kasnije 1995. imamo po dva CBS-a. Očigledno to sme. Nije zabranjeno da postoje dve kompanije sa istim imenom u raličitim zemljama, pogotovo ako je to skraćenica. Šteta što ne postoje metapodaci da vidimo koje su to firme. Svejedno, zaključujemo da **naziv kompanije nije jedinstven**."
   ]
  },
  {
   "cell_type": "markdown",
   "metadata": {},
   "source": [
    "Imamo previše varijabli da sve podatke odjednom prikažemo. Možemo da prikažemo npr. prihode kompanija za jednu odabranu godinu, npr. 2005. Najbolje je uzmemo samo podskup koji se odnosi na tu godinu."
   ]
  },
  {
   "cell_type": "code",
   "execution_count": 191,
   "metadata": {},
   "outputs": [],
   "source": [
    "df2005=subset(df,df$year==2005)"
   ]
  },
  {
   "cell_type": "markdown",
   "metadata": {},
   "source": [
    "Dimenzije ovog manjeg skupa su naravno 500 puta 5."
   ]
  },
  {
   "cell_type": "code",
   "execution_count": 192,
   "metadata": {},
   "outputs": [
    {
     "data": {
      "text/html": [
       "<ol class=list-inline>\n",
       "\t<li>500</li>\n",
       "\t<li>5</li>\n",
       "</ol>\n"
      ],
      "text/latex": [
       "\\begin{enumerate*}\n",
       "\\item 500\n",
       "\\item 5\n",
       "\\end{enumerate*}\n"
      ],
      "text/markdown": [
       "1. 500\n",
       "2. 5\n",
       "\n",
       "\n"
      ],
      "text/plain": [
       "[1] 500   5"
      ]
     },
     "metadata": {},
     "output_type": "display_data"
    }
   ],
   "source": [
    "dim(df2005)"
   ]
  },
  {
   "cell_type": "markdown",
   "metadata": {},
   "source": [
    "Sad možemo da prikažemo prihod po kompanijama. Koristimo trakasti dijagram, tj. _horizontal bar chart_. Parametar **las** je tu zbog orijentacije oznaka."
   ]
  },
  {
   "cell_type": "code",
   "execution_count": 193,
   "metadata": {},
   "outputs": [
    {
     "data": {
      "image/png": "[encoded data removed]",
      "text/plain": [
       "plot without title"
      ]
     },
     "metadata": {},
     "output_type": "display_data"
    }
   ],
   "source": [
    "barplot(df2005$revenue,names=df2005$company,horiz=T,las=2)"
   ]
  },
  {
   "cell_type": "markdown",
   "metadata": {},
   "source": [
    "Ovo je krajnje nepregledno. Ipak, vidi se nešto interesantno. Niz je sortiran. Pošto crtanje ovog grafika kreće odozdo, to znači da je __niz sortiran po prihodu i da počinje od kompanije sa najvećim prihodom__. Što se preglednosti tiče, ne može svih 500 kompanija na jedan grafik. Uzećemo samo prvih 10. Uvešćemo još jedan _data frame_ za to: __df2005top__. Mali je problem što ne znamo u kojim je ovo jedinicama dato. Svejedno, zgodno je za poređenje."
   ]
  },
  {
   "cell_type": "code",
   "execution_count": 194,
   "metadata": {},
   "outputs": [],
   "source": [
    "df2005top=head(df2005,10)"
   ]
  },
  {
   "cell_type": "markdown",
   "metadata": {},
   "source": [
    "Da probamo sad da nacrtamo dijagram. Funkcija `text` je tu da prikaže nazive kompanija malo preglednije nego u prethodnom pokušaju."
   ]
  },
  {
   "cell_type": "code",
   "execution_count": 195,
   "metadata": {},
   "outputs": [
    {
     "data": {
      "image/png": "[encoded data removed]",
      "text/plain": [
       "plot without title"
      ]
     },
     "metadata": {},
     "output_type": "display_data"
    }
   ],
   "source": [
    "y=barplot(df2005top$revenue,names=df2005top$rank,horiz=T,las=2)\n",
    "text(0,y,df2005top$company,pos=4)"
   ]
  },
  {
   "cell_type": "markdown",
   "metadata": {},
   "source": [
    "Vidi se da je __rank__ zapravo pozicija kompanije na listi kompanija sa najvećim prihodom. (Ako vam se ne sviđa što je grafikon _up-side-down_, obrnite sami redosled. Funkcija koja vam može pomoći je `rev`.) "
   ]
  },
  {
   "cell_type": "markdown",
   "metadata": {},
   "source": [
    "Sad bismo mogli da pogledamo kako su se menjali prihodi po godinama."
   ]
  },
  {
   "cell_type": "code",
   "execution_count": 196,
   "metadata": {},
   "outputs": [
    {
     "data": {
      "image/png": "[encoded data removed]",
      "text/plain": [
       "plot without title"
      ]
     },
     "metadata": {},
     "output_type": "display_data"
    }
   ],
   "source": [
    "plot(df$year,df$revenue)"
   ]
  },
  {
   "cell_type": "markdown",
   "metadata": {},
   "source": [
    "Očigledno je da je prihod 500 najvećih kompanija eksponencijalno rastao u ovih pet decenija. Isto tako, vidimo i da su velike razlike između nekoliko prvih i \"onih običnih\" iz top 500. Možda bi imalo više smisla prikazati ovaj grafik na logaritamskoj skali za prihode, tj. y-osu. Još bolje, da nađemo prihod tipične kompanije iz top 500 koristeći medijanu. To ćemo na grafiku prikazati crvenom bojom."
   ]
  },
  {
   "cell_type": "markdown",
   "metadata": {},
   "source": [
    "Da bismo izračunali medijanu prihoda po godinama iskoristićemo ne baš lep, ali efikasan izraz sa `tapply`. Ako niste bliski sa R-om, samo ga izvršite. Objašnjenje bi bilo nepotrebna digresija za ovaj tekst."
   ]
  },
  {
   "cell_type": "code",
   "execution_count": 197,
   "metadata": {},
   "outputs": [
    {
     "data": {
      "image/png": "[encoded data removed]",
      "text/plain": [
       "plot without title"
      ]
     },
     "metadata": {},
     "output_type": "display_data"
    }
   ],
   "source": [
    "MedRev=tapply(df$revenue,factor(df$year),median) # MedRev je vektor u koji smeštamo medijalne vrednosti\n",
    "plot(df$year,df$revenue,log=\"y\")\n",
    "points(unique(df$year),MedRev,pch=20,col=\"red\",cex=1.5)"
   ]
  },
  {
   "cell_type": "markdown",
   "metadata": {},
   "source": [
    "Nema sumnje, prihodi rastu tipičnim kompanijama iz top 500. Moramo samo da primetimo da se nešto čudno dogodilo 1995. godine: najbolje kompanije imaju očekivani rast prihoda, ali one slabije imaju značajan skok koji se vidi i na medijalnoj vrednosti."
   ]
  },
  {
   "cell_type": "markdown",
   "metadata": {},
   "source": [
    "Možemo da izaberemo i jednu kompaniju pa da ispitujemo njene podatke, npr. da prikažemo kako su se menjali prihodi od 1955. do 2005. godine. Uzećemo za primer prvu kompaniju iz tabele, tj. onu koja je 1955. imala naveći prihod -- General Motors. To izgleda ovako:"
   ]
  },
  {
   "cell_type": "code",
   "execution_count": 198,
   "metadata": {},
   "outputs": [
    {
     "data": {
      "image/png": "[encoded data removed]",
      "text/plain": [
       "Plot with title \"General Motors\""
      ]
     },
     "metadata": {},
     "output_type": "display_data"
    }
   ],
   "source": [
    "comp=df$company[1]\n",
    "dfcomp=subset(df,df$company==comp)\n",
    "plot(dfcomp$year,dfcomp$revenue,xlab=\"year\",ylab=\"revenue\")\n",
    "title(comp)"
   ]
  },
  {
   "cell_type": "markdown",
   "metadata": {},
   "source": [
    "Slično, možemo da vidimo kako se vremenom menjalo mesto na rang-listi za neke kompanije. Ovde smo za primer izabrali pet kompanija, za svaku smo napravili podskup od __df__ i linijama različite boje prikazali gde su bili koje godine. Vidimo da nisu sve kompanije postojale sve vreme. "
   ]
  },
  {
   "cell_type": "code",
   "execution_count": 199,
   "metadata": {},
   "outputs": [
    {
     "data": {
      "image/png": "[encoded data removed]",
      "text/plain": [
       "Plot with title \"Mesto na rang-listi za pet kompanija\""
      ]
     },
     "metadata": {},
     "output_type": "display_data"
    }
   ],
   "source": [
    "# pravimo tri podskupa za prve tri kompanije sa liste\n",
    "comp1=as.character(df$company[1])\n",
    "dfcomp1=subset(df,df$company==comp1)\n",
    "comp2=as.character(df$company[2])\n",
    "dfcomp2=subset(df,df$company==comp2)\n",
    "comp3=as.character(df$company[3])\n",
    "dfcomp3=subset(df,df$company==comp3)\n",
    "# pravimo još dva podskupa za kompanije koje 1955. nisu bile značajne\n",
    "comp4=\"Wal-Mart Stores\"\n",
    "dfcomp4=subset(df,df$company==comp4)\n",
    "comp5=\"Citigroup\"\n",
    "dfcomp5=subset(df,df$company==comp5)\n",
    "\n",
    "plot(dfcomp1$year,ylim=c(25,1),xlim=range(dfcomp1$year),xlab=\"year\",ylab=\"rank\")\n",
    "grid()\n",
    "#plot(dfcomp$year,dfcomp$rank,xlab=\"year\",ylab=\"rank\",type=\"o\")\n",
    "lines(dfcomp1$year,dfcomp1$rank,col=1)\n",
    "lines(dfcomp2$year,dfcomp2$rank,col=2)\n",
    "lines(dfcomp3$year,dfcomp3$rank,col=3)\n",
    "lines(dfcomp4$year,dfcomp4$rank,col=4)\n",
    "lines(dfcomp5$year,dfcomp5$rank,col=5)\n",
    "title(\"Mesto na rang-listi za pet kompanija\")\n",
    "legend(x=1955,y=19,legend=c(comp1,comp2,comp3,comp4,comp5),col=1:5,lty=1)"
   ]
  },
  {
   "cell_type": "markdown",
   "metadata": {},
   "source": [
    "Cela ova Jupyter sveska je primer kako u Jupyter okruženju i programskom jeziku R možemo da pregledamo fajl sa nepoznatim podacima. Verovatno vam je mnogo toga nejasno. Nema potrebe da sve funkcije i njihove parametre znate. Kad imate svesku kao što je ova možete da eksperimentišete, da je menjate, vidite šta se dešava i učite. Srećan rad! "
   ]
  }
 ],
 "metadata": {
  "kernelspec": {
   "display_name": "R",
   "language": "R",
   "name": "ir"
  },
  "language_info": {
   "codemirror_mode": "r",
   "file_extension": ".r",
   "mimetype": "text/x-r-source",
   "name": "R",
   "pygments_lexer": "r",
   "version": "3.5.1"
  }
 },
 "nbformat": 4,
 "nbformat_minor": 2
}
